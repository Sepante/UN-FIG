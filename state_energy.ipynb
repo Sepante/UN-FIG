{
 "cells": [
  {
   "cell_type": "code",
   "execution_count": 1,
   "id": "9a536718-2782-4c8f-85e5-01a37dd7cc12",
   "metadata": {},
   "outputs": [],
   "source": [
    "import numpy as np\n",
    "import pandas as pd\n",
    "import graph_tool.all as gt\n",
    "import matplotlib.pyplot as plt\n",
    "import pickle\n",
    "import sys\n",
    "import seaborn as sns\n",
    "import os"
   ]
  },
  {
   "cell_type": "code",
   "execution_count": 2,
   "id": "f3a24ecb-5975-4e90-80b0-9c85a788fce0",
   "metadata": {},
   "outputs": [],
   "source": [
    "\n",
    "# Specify the directory path\n",
    "directory_path = 'states/'\n",
    "\n",
    "# Get all files in the directory\n",
    "file_names = [f for f in os.listdir(directory_path) if os.path.isfile(os.path.join(directory_path, f))]\n",
    "\n",
    "# print(file_names)\n"
   ]
  },
  {
   "cell_type": "code",
   "execution_count": 3,
   "id": "a65085d5-d880-4c28-9323-12f2f52a84f2",
   "metadata": {},
   "outputs": [],
   "source": [
    "file_names.sort()"
   ]
  },
  {
   "cell_type": "code",
   "execution_count": 4,
   "id": "c22f872d-3c45-4fef-8480-7348e20b1f77",
   "metadata": {},
   "outputs": [
    {
     "data": {
      "text/plain": [
       "['Topic_ALL__Post90_False__Randomize_Direction_False__Remove_Local_Field_True__Negative_Weights_Allowed_False_371d00e5-6e81-43ca-b53a-2dba56bdd866.pickle']"
      ]
     },
     "execution_count": 4,
     "metadata": {},
     "output_type": "execute_result"
    }
   ],
   "source": [
    "file_names"
   ]
  },
  {
   "cell_type": "code",
   "execution_count": 5,
   "id": "ecb8f010-7b74-4893-b1c5-279e965908f5",
   "metadata": {},
   "outputs": [],
   "source": [
    "pickle_file = file_names[0]"
   ]
  },
  {
   "cell_type": "code",
   "execution_count": 6,
   "id": "133dae9f-7b67-4752-b491-b875f02bc6d5",
   "metadata": {},
   "outputs": [],
   "source": [
    "# pickle_file = 'Topic_ALL__Post90_False__Randomize_Direction_False__Remove_Local_Field_True__Negative_Weights_Allowed_False_371d00e5-6e81-43ca-b53a-2dba56bdd866.pickle'"
   ]
  },
  {
   "cell_type": "code",
   "execution_count": 7,
   "id": "9882596b-21dd-4553-ba59-71a156939a3b",
   "metadata": {},
   "outputs": [],
   "source": [
    "# File paths\n",
    "file_path = 'data/clean_resolutions_v1.csv'\n",
    "df_topic_labels_path = 'data/topic_labels.csv'\n",
    "\n",
    "# Load data\n",
    "resolution_only_votes_df = pd.read_csv(file_path, low_memory=False)"
   ]
  },
  {
   "cell_type": "code",
   "execution_count": 8,
   "id": "b921c11f-39df-4bff-a040-54c72fe6c3df",
   "metadata": {},
   "outputs": [],
   "source": [
    "with open(directory_path + pickle_file, 'rb') as fout:\n",
    "        state_dict = pickle.load(fout)"
   ]
  },
  {
   "cell_type": "code",
   "execution_count": 9,
   "id": "dbedf123-7fa1-4538-bda0-dec37fa9a920",
   "metadata": {},
   "outputs": [],
   "source": [
    "# Load the saved dictionary (assuming you already have `state_dict`)\n",
    "# state_dict = ...\n",
    "\n",
    "# Unpack each item in state_dict as a variable with the same name\n",
    "for key, value in state_dict.items():\n",
    "    globals()[key] = value  # This will create variables with the same names as the dictionary keys\n"
   ]
  },
  {
   "cell_type": "code",
   "execution_count": 10,
   "id": "e17fa5f5-d547-4949-b03f-c284bd4b223c",
   "metadata": {},
   "outputs": [],
   "source": [
    "if post_90:\n",
    "    resolution_only_votes_df = resolution_only_votes_df.loc[ resolution_only_votes_df['year'] > 1990 ]\n",
    "\n",
    "if topic != 'ALL':\n",
    "    resolution_only_votes_df = resolution_only_votes_df.loc[ resolution_only_votes_df[topic] == True ]"
   ]
  },
  {
   "cell_type": "code",
   "execution_count": 11,
   "id": "dc7fec44-cd54-47ac-b245-ed6c3177093b",
   "metadata": {},
   "outputs": [
    {
     "name": "stdout",
     "output_type": "stream",
     "text": [
      "yes\n"
     ]
    }
   ],
   "source": [
    "if 'country' not in list( g.vp.keys() ):\n",
    "    print('yes')\n",
    "\n",
    "    countries = pd.read_csv('countries_list_temp.csv')\n",
    "    \n",
    "    countries = list( countries['0'] )\n",
    "    \n",
    "    vprop_label = g.new_vertex_property(\"string\")\n",
    "    \n",
    "    for i in range( len(countries) ):\n",
    "        vprop_label[ g.vertex(i) ] = countries[i]\n",
    "    \n",
    "    # bstate = state.get_block_state()\n",
    "    \n",
    "    g.vp.country = vprop_label"
   ]
  },
  {
   "cell_type": "code",
   "execution_count": 12,
   "id": "83e4f094-7e74-4362-a7b5-771f097d2d7b",
   "metadata": {},
   "outputs": [],
   "source": [
    "countries_num = len( state.s[0] )"
   ]
  },
  {
   "cell_type": "code",
   "execution_count": 13,
   "id": "85e101b2-1a6e-4c55-94f9-3084f1df0815",
   "metadata": {},
   "outputs": [],
   "source": [
    "s = []\n",
    "active = []\n",
    "for country_ind in range( countries_num ):\n",
    "    s.append( state.s[0][country_ind] )\n",
    "    active.append( state.active[0][country_ind] )"
   ]
  },
  {
   "cell_type": "code",
   "execution_count": 14,
   "id": "6ba47b00-6c52-4b15-b21b-e8a186643efd",
   "metadata": {},
   "outputs": [],
   "source": [
    "s = np.array( s )\n",
    "active = np.array( active )"
   ]
  },
  {
   "cell_type": "code",
   "execution_count": 15,
   "id": "03daf0e8-fadc-4995-8c06-4194aefce042",
   "metadata": {},
   "outputs": [],
   "source": [
    "edges = g.get_edges()"
   ]
  },
  {
   "cell_type": "code",
   "execution_count": 16,
   "id": "9a5728df-6cb1-4b1c-a3bb-165f7ccd9cd7",
   "metadata": {},
   "outputs": [],
   "source": [
    "resolution_num = s.shape[1]"
   ]
  },
  {
   "cell_type": "code",
   "execution_count": 17,
   "id": "49b9c62e-f64a-4e90-aa0c-55714deff016",
   "metadata": {},
   "outputs": [],
   "source": [
    "old_s = np.copy( s )\n",
    "post_randomize_resolution_direction = False"
   ]
  },
  {
   "cell_type": "code",
   "execution_count": 18,
   "id": "3a485a2b-064c-434f-9b81-5719ac8f3b6b",
   "metadata": {},
   "outputs": [],
   "source": [
    "if post_randomize_resolution_direction:\n",
    "    direction_randomizer = np.random.choice([1, -1], size=s.shape[1])\n",
    "    s = s * direction_randomizer\n"
   ]
  },
  {
   "cell_type": "code",
   "execution_count": 19,
   "id": "eb360f4b-40b7-45eb-9d4a-2af805a35631",
   "metadata": {},
   "outputs": [
    {
     "data": {
      "text/plain": [
       "True"
      ]
     },
     "execution_count": 19,
     "metadata": {},
     "output_type": "execute_result"
    }
   ],
   "source": [
    "remove_local_field"
   ]
  },
  {
   "cell_type": "code",
   "execution_count": 38,
   "id": "21e31529-f1be-4484-8e93-7d2b205ac21c",
   "metadata": {},
   "outputs": [],
   "source": [
    "def save_figure(fig, base_filename, topic, post_randomize_resolution_direction, post_90, negative_weight_allowed, remove_local_field, **kwargs):\n",
    "    \"\"\"Save figure with dynamically formatted filename.\"\"\"\n",
    "    binlabel = ''\n",
    "    if 'binary' in pickle_file:\n",
    "        binlabel = '-' + pickle_file.split('binary_')[-1].split('.pickle')[0]\n",
    "    \n",
    "    filename = f\"./{base_filename}-{topic}-rand{post_randomize_resolution_direction}-p90{post_90}-negwt{negative_weight_allowed}-remLF{remove_local_field}{binlabel}\"\n",
    "    fig.savefig(f\"{filename}.png\", bbox_inches=\"tight\", dpi=300, **kwargs)\n",
    "    fig.savefig(f\"{filename}.pdf\", bbox_inches=\"tight\", dpi=300, **kwargs)\n"
   ]
  },
  {
   "cell_type": "markdown",
   "id": "d48569d1-a68c-47cd-9b94-06da8c81cce5",
   "metadata": {},
   "source": [
    "# state version"
   ]
  },
  {
   "cell_type": "code",
   "execution_count": 39,
   "id": "a462e94e-456b-4be2-9c5a-0fea7bdad853",
   "metadata": {},
   "outputs": [],
   "source": [
    "edges = state.bstate.g.get_edges()"
   ]
  },
  {
   "cell_type": "code",
   "execution_count": 40,
   "id": "1e4e4d4c-b822-4ef4-b83d-4e3f33cda858",
   "metadata": {},
   "outputs": [],
   "source": [
    "resolution_energies = []\n",
    "node_energies = []\n",
    "node_spins = []\n",
    "node_local_fields = []\n",
    "for resolution in range( resolution_num ):\n",
    "    \n",
    "\n",
    "    #node fields:\n",
    "    node_energy = np.zeros( g.num_vertices() )\n",
    "    node_local_field = np.copy( state.theta.a )\n",
    "\n",
    "    start_nodes = ( edges[:, 0] )\n",
    "    end_nodes = ( edges[:, 1] )\n",
    "    \n",
    "    # node_energy[ start_nodes ] += edge_energy * s[ start_nodes, resolution ]\n",
    "    # node_energy[ end_nodes ] += edge_energy * s[ end_nodes, resolution ]\n",
    "\n",
    "    # node_energy[ start_nodes ] += g.ep.x.a * s[ end_nodes, resolution ] * active[ end_nodes, resolution ]\n",
    "    # node_energy[ end_nodes ] += g.ep.x.a * s[ start_nodes, resolution ] * active[ start_nodes, resolution ]\n",
    "\n",
    "    np.add.at( node_energy, start_nodes, state.x.a * s[ end_nodes, resolution ] * active[ end_nodes, resolution ] )\n",
    "    np.add.at( node_energy, end_nodes, state.x.a * s[ start_nodes, resolution ] * active[ start_nodes, resolution ] )\n",
    "    node_energy += state.theta.a #local field\n",
    "\n",
    "    #edge energies\n",
    "    edge_activity = active[ edges[:,0]  , resolution] * active[ edges[:,1]  , resolution]\n",
    "    edge_agreement = s[ edges[:,0]  , resolution]     * s[ edges[:,1]  , resolution]\n",
    "\n",
    "    \n",
    "    edge_energy = edge_agreement * edge_activity * state.x.a\n",
    "    resolution_energy = edge_energy.sum()\n",
    "\n",
    "    local_field_energy_contr = (s[:, resolution] * state.theta.a).sum()\n",
    "    resolution_energy += local_field_energy_contr\n",
    "    resolution_energy = -resolution_energy\n",
    "    \n",
    "\n",
    "    resolution_energies.append( resolution_energy )\n",
    "\n",
    "    \n",
    "\n",
    "    \n",
    "    active_nodes_bool = np.bool_( active[:, resolution] )\n",
    "    \n",
    "    node_energies.extend( node_energy[ active_nodes_bool ] )\n",
    "    node_spins.extend( s[ active_nodes_bool , resolution ] )\n",
    "    node_local_fields.extend( node_local_field[ active_nodes_bool ] )\n",
    "\n",
    "    # node_energies.extend( node_energy[ : ] )\n",
    "    # node_spins.extend( s[ : , resolution ] )"
   ]
  },
  {
   "cell_type": "code",
   "execution_count": 41,
   "id": "ca4a531b-1162-4ab5-8592-e65988b0405e",
   "metadata": {},
   "outputs": [],
   "source": [
    "node_spins = np.array( node_spins )\n",
    "node_energies = np.array( node_energies )"
   ]
  },
  {
   "cell_type": "code",
   "execution_count": 42,
   "id": "9fe9faa3-9cd5-4160-aaee-f80d952b751a",
   "metadata": {},
   "outputs": [
    {
     "data": {
      "text/plain": [
       "2.059433748695085"
      ]
     },
     "execution_count": 42,
     "metadata": {},
     "output_type": "execute_result"
    }
   ],
   "source": [
    "node_energies.mean()"
   ]
  },
  {
   "cell_type": "code",
   "execution_count": 43,
   "id": "28339868-4708-4056-86e8-0aca502049a2",
   "metadata": {},
   "outputs": [
    {
     "data": {
      "text/plain": [
       "2.059433748695085"
      ]
     },
     "execution_count": 43,
     "metadata": {},
     "output_type": "execute_result"
    }
   ],
   "source": [
    "node_energies.mean()"
   ]
  },
  {
   "cell_type": "code",
   "execution_count": 29,
   "id": "ab88a63f-48e2-498a-925b-9143f42bc18a",
   "metadata": {},
   "outputs": [
    {
     "data": {
      "text/plain": [
       "845687"
      ]
     },
     "execution_count": 29,
     "metadata": {},
     "output_type": "execute_result"
    }
   ],
   "source": [
    "len( node_spins )"
   ]
  },
  {
   "cell_type": "code",
   "execution_count": 30,
   "id": "8d6ce96d-db7c-4b6c-bf8d-b8ffea9c4d1b",
   "metadata": {},
   "outputs": [
    {
     "data": {
      "text/plain": [
       "(array([ 47418.,      0.,      0.,      0.,      0., 171151.,      0.,\n",
       "             0.,      0., 627118.]),\n",
       " array([-1. , -0.8, -0.6, -0.4, -0.2,  0. ,  0.2,  0.4,  0.6,  0.8,  1. ]),\n",
       " <BarContainer object of 10 artists>)"
      ]
     },
     "execution_count": 30,
     "metadata": {},
     "output_type": "execute_result"
    },
    {
     "data": {
      "image/png": "[encoded data removed]",
      "text/plain": [
       "<Figure size 640x480 with 1 Axes>"
      ]
     },
     "metadata": {},
     "output_type": "display_data"
    }
   ],
   "source": [
    "plt.hist(node_spins)"
   ]
  },
  {
   "cell_type": "code",
   "execution_count": 31,
   "id": "6bf42c22-167e-44d4-8180-bada00ab6ce2",
   "metadata": {},
   "outputs": [
    {
     "data": {
      "text/plain": [
       "845687"
      ]
     },
     "execution_count": 31,
     "metadata": {},
     "output_type": "execute_result"
    }
   ],
   "source": [
    "len( node_energies )"
   ]
  },
  {
   "cell_type": "code",
   "execution_count": 32,
   "id": "6004b290-5b9c-42db-95ce-c237db69de5c",
   "metadata": {},
   "outputs": [],
   "source": [
    "abs_max = np.max( [np.abs( np.min(node_energies) ), np.abs( np.max(node_energies))] )"
   ]
  },
  {
   "cell_type": "code",
   "execution_count": 33,
   "id": "dc164386-72d6-4a37-bd5b-b3fda5b1f645",
   "metadata": {},
   "outputs": [],
   "source": [
    "def prob_analytical(spin_value, x, beta, alpha, possible_spin_values = [-1, 0, 1]):\n",
    "    # possible_spin_values = [-1, 1]\n",
    "    # if has_zeros:\n",
    "        # possible_spin_values.append(0)\n",
    "    Z = 0\n",
    "    for possible_spin in possible_spin_values:\n",
    "        Z += non_normal_prob(possible_spin, x, beta, alpha)\n",
    "        # print(Z)\n",
    "    # print(Z)\n",
    "    print(possible_spin_values)\n",
    "    \n",
    "    return non_normal_prob(spin_value, x, beta, alpha) / Z\n"
   ]
  },
  {
   "cell_type": "code",
   "execution_count": 34,
   "id": "0f355b3d-8d41-4ff7-9784-760a0c6546ae",
   "metadata": {},
   "outputs": [],
   "source": [
    "def non_normal_prob(spin_value, x, beta, alpha):\n",
    "    return np.exp(beta * (spin_value * x -  (spin_value ** 2) * alpha ))"
   ]
  },
  {
   "cell_type": "code",
   "execution_count": 35,
   "id": "658f9bbd-5a96-4962-8367-c0d93c574d76",
   "metadata": {},
   "outputs": [],
   "source": [
    "# prob_analytical(spin_value, bin_centers, beta, alpha)"
   ]
  },
  {
   "cell_type": "code",
   "execution_count": 36,
   "id": "aabca533-7f2c-45a2-8d2b-c5109d510efc",
   "metadata": {},
   "outputs": [],
   "source": [
    "beta = 1\n",
    "\n",
    "alpha = 0\n"
   ]
  },
  {
   "cell_type": "code",
   "execution_count": 44,
   "id": "03347ad9-d809-49c3-aaa2-dcd41162947a",
   "metadata": {},
   "outputs": [
    {
     "name": "stdout",
     "output_type": "stream",
     "text": [
      "[-1  0  1]\n",
      "[-1  0  1]\n",
      "[-1  0  1]\n"
     ]
    },
    {
     "data": {
      "image/png": "[encoded data removed]",
      "text/plain": [
       "<Figure size 500x300 with 2 Axes>"
      ]
     },
     "metadata": {},
     "output_type": "display_data"
    }
   ],
   "source": [
    "import numpy as np\n",
    "import matplotlib.pyplot as plt\n",
    "from matplotlib.lines import Line2D  # Import for custom legend handles\n",
    "\n",
    "# Assuming node_energies and node_spins are defined\n",
    "num_bins = 40\n",
    "abs_max = np.max(np.abs(node_energies))  \n",
    "bins = np.linspace(-abs_max, abs_max, num_bins + 1)\n",
    "bins = list(bins)\n",
    "if 0 in bins:\n",
    "    bins.remove(0)\n",
    "bins = np.sort(bins)\n",
    "bin_centers = (bins[:-1] + bins[1:]) / 2  \n",
    "\n",
    "# spin_values = [-1, 0, 1]\n",
    "spin_values = np.unique( s[ active != 0 ] )\n",
    "spin_probabilities = {spin_value: [] for spin_value in spin_values}\n",
    "spin_errors = {spin_value: [] for spin_value in spin_values}\n",
    "\n",
    "for i in range(len(bins) - 1):\n",
    "    in_bin = (node_energies >= bins[i]) & (node_energies < bins[i + 1])\n",
    "    if np.sum(in_bin) > 0:\n",
    "        for spin_value in spin_values:\n",
    "            probability = np.mean(node_spins[in_bin] == spin_value)\n",
    "            spin_probabilities[spin_value].append(probability)\n",
    "            std_error = np.sqrt(probability * (1 - probability) / np.sum(in_bin))\n",
    "            spin_errors[spin_value].append(std_error)\n",
    "    else:\n",
    "        for spin_value in spin_values:\n",
    "            spin_probabilities[spin_value].append(np.nan)\n",
    "            spin_errors[spin_value].append(np.nan)\n",
    "\n",
    "# Set up the plot\n",
    "fig, ax_main = plt.subplots(figsize=(5, 3))  # Only the left axis\n",
    "colors = {-1: \"red\", 0: \"green\", 1: \"blue\"}\n",
    "\n",
    "# 🎯 Left plot (Full Range)\n",
    "for spin_value in spin_values:\n",
    "    ax_main.errorbar(\n",
    "        bin_centers, spin_probabilities[spin_value], yerr=spin_errors[spin_value],\n",
    "        fmt=\"o\", color=colors[spin_value], alpha=0.6, label=f\"$P(s_i = {spin_value} | h_i)$\"\n",
    "    )\n",
    "    ax_main.plot(\n",
    "        bin_centers,\n",
    "        prob_analytical(spin_value=spin_value, x=bin_centers, beta=beta, alpha=alpha, possible_spin_values=spin_values),\n",
    "        color=colors[spin_value], linestyle=\"--\"\n",
    "    )\n",
    "\n",
    "# Custom legend handles for the new symbols (Empirical and Theoretical)\n",
    "empirical_handle = Line2D([0], [0], marker='o', color='black', linestyle='None', markersize=6, label='Empirical')\n",
    "theoretical_handle = Line2D([0], [0], linestyle='--', color='black', label='Theoretical')\n",
    "\n",
    "# Update main plot legend with the original and empirical/theoretical labels\n",
    "ax_main.set_xlabel(\"$h_i$ (Effective Field)\")\n",
    "ax_main.set_ylabel(\"$P(s_i = k | h_i)$\")\n",
    "\n",
    "ax_main.legend(\n",
    "    handles=[*ax_main.get_legend_handles_labels()[0]], \n",
    "    labels=[*ax_main.get_legend_handles_labels()[1]],\n",
    "    bbox_to_anchor=(0, 1.03, 1.0, 0.2), \n",
    "    loc=\"lower left\", mode=\"expand\", borderaxespad=0, ncol=3, fontsize=\"10\"\n",
    ")\n",
    "\n",
    "# Add the second legend for the 'Empirical' and 'Theoretical' symbols\n",
    "# Create a new axis for the secondary legend\n",
    "ax_legend = fig.add_axes([0.2, 0.45, 0.14, 0.1], frameon=False)  # Left-center position of the figure\n",
    "ax_legend.axis('off')  # Hide the axis\n",
    "ax_legend.legend(\n",
    "    handles=[empirical_handle, theoretical_handle], \n",
    "    labels=['Computed', 'Theoretical'],\n",
    "    loc='center', \n",
    "    fontsize='10'\n",
    ")\n",
    "\n",
    "# Add alpha text annotation if needed\n",
    "if alpha:\n",
    "    ax_main.text(0.05, 0.5, f'${{\\\\alpha = {alpha}}}$', \n",
    "                 horizontalalignment='left', \n",
    "                 verticalalignment='center', \n",
    "                 transform=ax_main.transAxes,\n",
    "                 bbox=dict(facecolor='white', edgecolor='black', boxstyle='round,pad=0.5'))\n",
    "\n",
    "base_filename = \"conditional-prob-full-range\"\n",
    "\n",
    "if alpha:\n",
    "    base_filename += f\"-alpha-{alpha}\"\n",
    "\n",
    "# fig.tight_layout()\n",
    "\n",
    "# Save and show\n",
    "save_figure(fig, base_filename, topic, post_randomize_resolution_direction, post_90, negative_weight_allowed, remove_local_field)\n",
    "plt.show()\n"
   ]
  }
 ],
 "metadata": {
  "kernelspec": {
   "display_name": "Python 3 (ipykernel)",
   "language": "python",
   "name": "python3"
  },
  "language_info": {
   "codemirror_mode": {
    "name": "ipython",
    "version": 3
   },
   "file_extension": ".py",
   "mimetype": "text/x-python",
   "name": "python",
   "nbconvert_exporter": "python",
   "pygments_lexer": "ipython3",
   "version": "3.12.4"
  }
 },
 "nbformat": 4,
 "nbformat_minor": 5
}
