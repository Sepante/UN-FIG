{
 "cells": [
  {
   "cell_type": "code",
   "execution_count": 1,
   "id": "9a536718-2782-4c8f-85e5-01a37dd7cc12",
   "metadata": {},
   "outputs": [],
   "source": [
    "import numpy as np\n",
    "import pandas as pd\n",
    "import graph_tool.all as gt\n",
    "import matplotlib.pyplot as plt\n",
    "import pickle\n",
    "import sys"
   ]
  },
  {
   "cell_type": "code",
   "execution_count": 2,
   "id": "6981d5a3-9080-4a4c-8281-87a51b0e93fe",
   "metadata": {},
   "outputs": [
    {
     "data": {
      "text/plain": [
       "'2.91 (commit 5f147344, )'"
      ]
     },
     "execution_count": 2,
     "metadata": {},
     "output_type": "execute_result"
    }
   ],
   "source": [
    "gt.__version__"
   ]
  },
  {
   "cell_type": "code",
   "execution_count": 3,
   "id": "f3a24ecb-5975-4e90-80b0-9c85a788fce0",
   "metadata": {},
   "outputs": [],
   "source": [
    "import os\n",
    "\n",
    "# Specify the directory path\n",
    "directory_path = 'states/'\n",
    "\n",
    "# Get all files in the directory\n",
    "file_names = [f for f in os.listdir(directory_path) if os.path.isfile(os.path.join(directory_path, f))]\n",
    "\n",
    "# print(file_names)\n"
   ]
  },
  {
   "cell_type": "code",
   "execution_count": 4,
   "id": "a65085d5-d880-4c28-9323-12f2f52a84f2",
   "metadata": {},
   "outputs": [],
   "source": [
    "file_names.sort()"
   ]
  },
  {
   "cell_type": "code",
   "execution_count": 5,
   "id": "f562126a-2148-4371-8968-1347a94054d4",
   "metadata": {},
   "outputs": [
    {
     "data": {
      "text/plain": [
       "['Topic_ALL__Post90_False__Randomize_Direction_False__Remove_Local_Field_True__Negative_Weights_Allowed_False_371d00e5-6e81-43ca-b53a-2dba56bdd866.pickle']"
      ]
     },
     "execution_count": 5,
     "metadata": {},
     "output_type": "execute_result"
    }
   ],
   "source": [
    "file_names"
   ]
  },
  {
   "cell_type": "code",
   "execution_count": 6,
   "id": "ecb8f010-7b74-4893-b1c5-279e965908f5",
   "metadata": {},
   "outputs": [],
   "source": [
    "pickle_file = file_names[0]"
   ]
  },
  {
   "cell_type": "code",
   "execution_count": 7,
   "id": "52832321-0ef5-44c7-936e-82ee6e294501",
   "metadata": {},
   "outputs": [
    {
     "data": {
      "text/plain": [
       "'Topic_ALL__Post90_False__Randomize_Direction_False__Remove_Local_Field_True__Negative_Weights_Allowed_False_371d00e5-6e81-43ca-b53a-2dba56bdd866.pickle'"
      ]
     },
     "execution_count": 7,
     "metadata": {},
     "output_type": "execute_result"
    }
   ],
   "source": [
    "pickle_file"
   ]
  },
  {
   "cell_type": "code",
   "execution_count": 8,
   "id": "04ee7e82-76b7-47ea-aa17-1adf09b58d76",
   "metadata": {},
   "outputs": [],
   "source": [
    "# pickle_file = 'Topic_ALL__Post90_True__Randomize_Direction_False__Remove_Local_Field_True__Negative_Weights_Allowed_False_f69c5ce0-7090-413a-bde9-cbc9234f1e96.pickle'"
   ]
  },
  {
   "cell_type": "code",
   "execution_count": 9,
   "id": "b921c11f-39df-4bff-a040-54c72fe6c3df",
   "metadata": {},
   "outputs": [],
   "source": [
    "with open(directory_path + pickle_file, 'rb') as fout:\n",
    "        state_dict = pickle.load(fout)"
   ]
  },
  {
   "cell_type": "code",
   "execution_count": 10,
   "id": "39fbc1f5-fbc2-4bd7-9980-282ba33af6d7",
   "metadata": {},
   "outputs": [],
   "source": [
    "def bytes_to_mb(size_in_bytes):\n",
    "    return size_in_bytes / (1024 ** 2)"
   ]
  },
  {
   "cell_type": "code",
   "execution_count": 11,
   "id": "6cc7b482-eb62-4d89-9c4b-d8570d9708d7",
   "metadata": {},
   "outputs": [],
   "source": [
    "# Step 1: Read the CSV file into a DataFrame\n",
    "iso_df = pd.read_csv('data/alpha-3.csv')\n",
    "\n",
    "# Step 2: Create a dictionary to map country names to their ISO codes\n",
    "iso_dict = pd.Series(iso_df['alpha-3'].values, index=iso_df['Country']).to_dict()"
   ]
  },
  {
   "cell_type": "code",
   "execution_count": 12,
   "id": "5a9e3a7b-fc82-4c0a-a264-894fe301281c",
   "metadata": {},
   "outputs": [],
   "source": [
    "topic_labels = {\n",
    "    'me': 'Israel-Palestine Conflict',\n",
    "    'nu': 'Nuclear Weapons',\n",
    "    'di': 'Arms Control',\n",
    "    'co': 'Colonialism',\n",
    "    'hr': 'Human Rights',\n",
    "    'ec': 'Economic Development',\n",
    "    'ALL': 'All Resolutions'\n",
    "}"
   ]
  },
  {
   "cell_type": "code",
   "execution_count": 13,
   "id": "dbedf123-7fa1-4538-bda0-dec37fa9a920",
   "metadata": {},
   "outputs": [],
   "source": [
    "# Load the saved dictionary (assuming you already have `state_dict`)\n",
    "# state_dict = ...\n",
    "\n",
    "# Unpack each item in state_dict as a variable with the same name\n",
    "for key, value in state_dict.items():\n",
    "    globals()[key] = value  # This will create variables with the same names as the dictionary keys\n"
   ]
  },
  {
   "cell_type": "code",
   "execution_count": 14,
   "id": "6b45f282-7a4c-471b-8939-3dd7e11d49d4",
   "metadata": {},
   "outputs": [
    {
     "data": {
      "text/plain": [
       "'Topic_ALL__Post90_False__Randomize_Direction_False__Remove_Local_Field_True__Negative_Weights_Allowed_False_371d00e5-6e81-43ca-b53a-2dba56bdd866'"
      ]
     },
     "execution_count": 14,
     "metadata": {},
     "output_type": "execute_result"
    }
   ],
   "source": [
    "state_title_filename"
   ]
  },
  {
   "cell_type": "code",
   "execution_count": 15,
   "id": "628f3abf-5f70-4d1b-b878-46b23b5291f9",
   "metadata": {},
   "outputs": [
    {
     "name": "stdout",
     "output_type": "stream",
     "text": [
      "yes\n"
     ]
    }
   ],
   "source": [
    "if 'country' not in list( g.vp.keys() ):\n",
    "    print('yes')\n",
    "\n",
    "    countries = pd.read_csv('countries_list_temp.csv')\n",
    "    \n",
    "    countries = list( countries['0'] )\n",
    "    \n",
    "    vprop_label = g.new_vertex_property(\"string\")\n",
    "    \n",
    "    for i in range( len(countries) ):\n",
    "        vprop_label[ g.vertex(i) ] = countries[i]\n",
    "    \n",
    "    # bstate = state.get_block_state()\n",
    "    \n",
    "    g.vp.country = vprop_label"
   ]
  },
  {
   "cell_type": "code",
   "execution_count": 16,
   "id": "3a72a422-782c-4176-bfb1-6bb5b321df91",
   "metadata": {},
   "outputs": [
    {
     "data": {
      "text/plain": [
       "4209"
      ]
     },
     "execution_count": 16,
     "metadata": {},
     "output_type": "execute_result"
    }
   ],
   "source": [
    "g = gt.GraphView(g, efilt=lambda e: g.ep['eprob'][e] > 0.5)\n",
    "\n",
    "g.num_edges()\n",
    "\n",
    "g = gt.GraphView(g, efilt=lambda e: g.ep['x'][e] >g.ep['x'].a.mean())\n",
    "\n",
    "g.clear_filters()\n",
    "\n",
    "g.num_edges()"
   ]
  },
  {
   "cell_type": "code",
   "execution_count": 17,
   "id": "7af41d86-0acf-4c45-9c14-b3fbdc757adf",
   "metadata": {},
   "outputs": [],
   "source": [
    "nested_blockstate_g = gt.NestedBlockState( g, bs = state.nbstate.get_bs().copy() )"
   ]
  },
  {
   "cell_type": "code",
   "execution_count": 18,
   "id": "c25da2b8-55f8-4193-a53d-d69211305d78",
   "metadata": {},
   "outputs": [],
   "source": [
    "pmode = gt.PartitionModeState(bs[-4000:], converge=True)\n",
    "pv = pmode.get_marginal(g)"
   ]
  },
  {
   "cell_type": "code",
   "execution_count": 19,
   "id": "942e8e93-80b5-4281-9492-1b8b38dcd1cd",
   "metadata": {},
   "outputs": [],
   "source": [
    "nested_blockstate_g_pv = nested_blockstate_g.g.new_vertex_property(\"vector<int32_t>\")"
   ]
  },
  {
   "cell_type": "code",
   "execution_count": 20,
   "id": "a3f08100-605b-4557-89a5-65bf5bb3e5c3",
   "metadata": {},
   "outputs": [],
   "source": [
    "for v in nested_blockstate_g.g.vertices():\n",
    "    nested_blockstate_g_pv[v] = pv[v]\n",
    "    # print (nested_blockstate_g_pv[v] )"
   ]
  },
  {
   "cell_type": "code",
   "execution_count": 21,
   "id": "46f86413-77ed-4e68-8de3-8ed7bbaaf5c2",
   "metadata": {},
   "outputs": [],
   "source": [
    "# Step 1: Create a list of tuples with (vertex, max_index, normalized proportion at max index)\n",
    "node_info = []\n",
    "max_indices = []\n",
    "vertex_orders = []\n",
    "for v in g.vertices():\n",
    "    values = np.array(nested_blockstate_g_pv[v])\n",
    "    max_index = np.argmax(values)  # Find the max index\n",
    "    normalized_values = values / values.sum()  # Normalize the values\n",
    "    max_proportion = normalized_values[max_index]  # Proportion at the max index\n",
    "    node_info.append((int(v), max_index, max_proportion))  # Append vertex id and computed values\n",
    "    max_indices.append( max_index )\n",
    "    vertex_orders.append( max_proportion )\n",
    "# Step 2 and Step 3: Sort by max index, then by max proportion in descending order\n",
    "# sorted_nodes = sorted(node_info, key=lambda x: (x[1], -x[2]))\n",
    "\n",
    "# Extract just the vertex order and the max indices in the desired order\n",
    "# vertex_order = [node[0] for node in sorted_nodes]\n",
    "# max_indices = [node[1] for node in sorted_nodes]  # Store max_index for each vertex\n",
    "\n",
    "# max_indices = np.array( max_indices )\n",
    "# Output the ordered vertex indices and max indices\n",
    "# print(\"Ordered vertex indices:\", vertex_order)\n",
    "# print(\"Max indices for each vertex in order:\", max_indices)\n",
    "\n",
    "\n",
    "# temp_state = state.nbstate.get_bs()\n",
    "\n",
    "# nested_blockstate_g.get_state()\n",
    "\n",
    "# max_indices\n",
    "\n",
    "# vertex_block_property = nested_blockstate_g.g.new_vertex_property(\"int\")\n",
    "\n",
    "# vertex_block_property.a[:] = max_indices\n",
    " \n",
    "# vertex_block_property.a\n",
    "\n",
    "# temp_state[0] = vertex_block_property\n",
    "\n",
    "# temp_state\n",
    "\n",
    "# nested_blockstate_g.set_state( temp_state )"
   ]
  },
  {
   "cell_type": "code",
   "execution_count": 22,
   "id": "15bf4118-2e31-4c5c-bdb8-e4cda3f200b7",
   "metadata": {},
   "outputs": [],
   "source": [
    "vertex_order_property = nested_blockstate_g.g.new_vertex_property(\"float\")\n",
    "\n",
    "vertex_order_property.a[:] = vertex_orders"
   ]
  },
  {
   "cell_type": "code",
   "execution_count": 23,
   "id": "9e9f9719-8848-440b-bb6d-7660c3a1b6bb",
   "metadata": {},
   "outputs": [],
   "source": [
    "def shuffle_categories(arr):\n",
    "    \"\"\"\n",
    "    Shuffle categories in the array while preserving their structure.\n",
    "    \n",
    "    Parameters:\n",
    "        arr: List or 1D array of integers representing categories.\n",
    "    \n",
    "    Returns:\n",
    "        A new array with categories shuffled.\n",
    "    \"\"\"\n",
    "    # Step 1: Find unique categories\n",
    "    unique_values = np.unique(arr)\n",
    "    \n",
    "    # Step 2: Shuffle the unique categories\n",
    "    shuffled_values = unique_values.copy()\n",
    "    np.random.shuffle(shuffled_values)\n",
    "    \n",
    "    # Step 3: Create a mapping from original to shuffled categories\n",
    "    value_map = {original: shuffled for original, shuffled in zip(unique_values, shuffled_values)}\n",
    "    \n",
    "    # Step 4: Replace values in the array according to the shuffled mapping\n",
    "    shuffled_array = np.array([value_map[val] for val in arr])\n",
    "    \n",
    "    return shuffled_array\n",
    "\n",
    "max_indices = shuffle_categories(max_indices)\n",
    "\n",
    "# country_colors = state.bstate.get_blocks().a\n",
    "country_colors = max_indices"
   ]
  },
  {
   "cell_type": "code",
   "execution_count": 24,
   "id": "ba15e83c-15bd-4619-9b69-df499c14eea8",
   "metadata": {},
   "outputs": [],
   "source": [
    "new_block_state = nested_blockstate_g.get_bs().copy()\n",
    "new_block_state[0].a[:] = max_indices\n",
    "nested_blockstate_g.set_state( new_block_state )"
   ]
  },
  {
   "cell_type": "code",
   "execution_count": 25,
   "id": "ad3d4dc4-7019-4b78-bc0b-f0bfaea37663",
   "metadata": {},
   "outputs": [],
   "source": [
    "# pmode = gt.PartitionModeState(bs, converge=True)\n",
    "# pv = pmode.get_marginal(g)\n",
    "\n",
    "for v in nested_blockstate_g.g.vertices():\n",
    "    nested_blockstate_g_pv[v] = pv[v]\n"
   ]
  },
  {
   "cell_type": "code",
   "execution_count": 26,
   "id": "7f1dd719-81a0-47e5-9999-c7ec03305ee4",
   "metadata": {},
   "outputs": [],
   "source": [
    "# edge width\n",
    "ew = nested_blockstate_g.g.ep.eprob.copy()\n",
    "# ew.a = abs(ew.a - .5)"
   ]
  },
  {
   "cell_type": "code",
   "execution_count": 27,
   "id": "3d387597-0174-4214-8bcc-040bd76c7e39",
   "metadata": {},
   "outputs": [],
   "source": [
    "eorder = ew.copy()\n",
    "eorder.a = -eorder.a"
   ]
  },
  {
   "cell_type": "code",
   "execution_count": 28,
   "id": "1924e93d-4f67-4c9f-94e3-442a4bbd3942",
   "metadata": {},
   "outputs": [],
   "source": [
    "plt.close(\"all\")           # Close all open figures\n",
    "# plt.switch_backend(\"agg\")   # Revert to the default backend\n",
    "plt.switch_backend(\"module://matplotlib_inline.backend_inline\")  # Set to Jupyter inline backend\n"
   ]
  },
  {
   "cell_type": "code",
   "execution_count": 29,
   "id": "90a45f8c-8e7f-4b85-97ac-270e66ceca80",
   "metadata": {},
   "outputs": [],
   "source": [
    "edge_pen_width = gt.prop_to_size(ew, 0.8, 3, power=1, log = True)"
   ]
  },
  {
   "cell_type": "code",
   "execution_count": 30,
   "id": "b169fa67-50dc-467b-b19c-6991e532f858",
   "metadata": {},
   "outputs": [],
   "source": [
    "# plt.hist( edge_pen_width.fa, 100 );"
   ]
  },
  {
   "cell_type": "code",
   "execution_count": 31,
   "id": "b6b4f92c-81e6-4f1f-b647-df3aacf6f9c3",
   "metadata": {},
   "outputs": [],
   "source": [
    "import matplotlib"
   ]
  },
  {
   "cell_type": "code",
   "execution_count": 32,
   "id": "9cb86480-94d3-4307-b8f5-eca407656278",
   "metadata": {},
   "outputs": [],
   "source": [
    "# cnorm = matplotlib.colors.Normalize(vmin=-abs(ew.fa).max(), vmax=abs(ew.fa).max())\n",
    "# cnorm = matplotlib.colors.Normalize(vmin=abs(ew.fa).min(), vmax=abs(ew.fa).max())\n",
    "cnorm = matplotlib.colors.Normalize(vmin=0.2, vmax=abs(ew.fa).max())"
   ]
  },
  {
   "cell_type": "code",
   "execution_count": 33,
   "id": "8901bdba-5017-4ab0-9afd-866d9a4df03d",
   "metadata": {},
   "outputs": [],
   "source": [
    "vertex_block_property = nested_blockstate_g.g.new_vertex_property(\"int\")\n",
    "\n",
    "vertex_block_property.a[:] = max_indices\n"
   ]
  },
  {
   "cell_type": "code",
   "execution_count": 34,
   "id": "078b512a-32bb-402b-8550-2c3c6382c869",
   "metadata": {},
   "outputs": [
    {
     "data": {
      "text/plain": [
       "(<VertexPropertyMap object with value type 'vector<double>', for Graph 0x7f7872908620, at 0x7f7863fefc80>,\n",
       " <GraphView object, directed, with 206 vertices and 205 edges, edges filtered by <EdgePropertyMap object with value type 'bool', for Graph 0x7f78628eade0, at 0x7f78613c54f0>, vertices filtered by <VertexPropertyMap object with value type 'bool', for Graph 0x7f78628eade0, at 0x7f78628eba70>, at 0x7f78628eade0>,\n",
       " <VertexPropertyMap object with value type 'vector<double>', for Graph 0x7f78628eade0, at 0x7f78613b00b0>)"
      ]
     },
     "execution_count": 34,
     "metadata": {},
     "output_type": "execute_result"
    }
   ],
   "source": [
    "## plt.close(\"all\")           # Close all open figures\n",
    "plt.switch_backend(\"cairo\")   # to enable vector drawing\n",
    "\n",
    "nested_blockstate_g.draw( #vertex_shape=\"pie\",\n",
    "                        edge_color = nested_blockstate_g.g.ep.x,\n",
    "                        vertex_fill_color = vertex_block_property,\n",
    "                        # ecmap=red_cm,\n",
    "                        # ecmap=matplotlib.cm.coolwarm_r,\n",
    "                        ecmap=matplotlib.cm.Blues,\n",
    "                        ecnorm=cnorm,\n",
    "                        edge_gradient =[],\n",
    "                        # vertex_pie_fractions=nested_blockstate_g_pv,\n",
    "                        rel_order = vertex_order_property,\n",
    "                        edge_pen_width=edge_pen_width,\n",
    "                        deg_size = False,\n",
    "                        vertex_size = 10,\n",
    "                        hedge_color = 'k',\n",
    "                        hvertex_fill_color = 'k',\n",
    "                        eorder = nested_blockstate_g.g.ep.x,\n",
    "                        vertex_text = vprop_label,\n",
    "                        output='./' + \"stabilization -names-\" + state_title_filename +'-.pdf',\n",
    "                        output_size = (1200, 1200)\n",
    "                        )"
   ]
  },
  {
   "cell_type": "code",
   "execution_count": 35,
   "id": "02421718-be50-493b-9136-6ac552c15f2f",
   "metadata": {},
   "outputs": [],
   "source": [
    "plt.close(\"all\")           # Close all open figures\n",
    "# plt.switch_backend(\"agg\")   # Revert to the default backend\n",
    "plt.switch_backend(\"module://matplotlib_inline.backend_inline\")  # Set to Jupyter inline backend"
   ]
  },
  {
   "cell_type": "code",
   "execution_count": 36,
   "id": "d9e79fb8-5f11-4acf-90e8-d3868b49fd6a",
   "metadata": {},
   "outputs": [],
   "source": [
    "rand_code = state_title_filename.split('_')[-1]\n",
    "\n",
    "title = topic_labels[topic]\n",
    "\n",
    "import matplotlib"
   ]
  },
  {
   "cell_type": "code",
   "execution_count": 37,
   "id": "3a13557c-01e8-45b3-9af1-1700987e57b6",
   "metadata": {},
   "outputs": [],
   "source": [
    "\n",
    "# edge width\n",
    "ew = g.ep.eprob.copy()\n",
    "ew.a = abs(ew.a - .5)\n",
    "\n",
    "# get a color map\n",
    "clrs = [(1, 0, 0, 1.0),\n",
    "        (0, 0, 0, 1.0)]\n",
    "red_cm = matplotlib.colors.LinearSegmentedColormap.from_list(\"Set3\", clrs)\n"
   ]
  },
  {
   "cell_type": "code",
   "execution_count": 38,
   "id": "05822722-83a8-4ac1-9dc7-e39136e34311",
   "metadata": {},
   "outputs": [],
   "source": [
    "countries = []\n",
    "for v in g.vertices():\n",
    "    countries.append( g.vp.country[v] )"
   ]
  },
  {
   "cell_type": "code",
   "execution_count": 39,
   "id": "e608ed23-aade-4223-b822-48ed4f097201",
   "metadata": {},
   "outputs": [],
   "source": [
    "country_df = pd.DataFrame({\n",
    "    'ISO_A3': countries,\n",
    "    'block': country_colors\n",
    "})"
   ]
  },
  {
   "cell_type": "code",
   "execution_count": 40,
   "id": "61c2fd44-ecea-4a80-9657-c0771e33fb6c",
   "metadata": {},
   "outputs": [],
   "source": [
    "import geopandas as gpd\n",
    "import matplotlib.pyplot as plt\n",
    "from mpl_toolkits.axes_grid1 import make_axes_locatable\n",
    "\n",
    "# Load world map shapefile using geopandas\n",
    "# world = gpd.read_file('shape-files/ne_110m_admin_0_countries.shp')\n",
    "\n",
    "world = gpd.read_file('shape-files/ne_110m_admin_0_countries.shp')\n",
    "\n",
    "# Handle potential discrepancies in country codes\n",
    "world.loc[world['ADMIN'] == 'France', 'ISO_A3'] = 'FRA'\n",
    "world.loc[world['ADMIN'] == 'Norway', 'ISO_A3'] = 'NOR'\n",
    "\n",
    "# Reproject the world map to a different CRS (for visualization purposes)\n",
    "world = world.to_crs(epsg=3395)\n",
    "\n",
    "# Merge the world GeoDataFrame with the country_df based on the 'ISO_A3' country codes\n",
    "world = world.merge(country_df, left_on='ISO_A3', right_on='ISO_A3', how='left')\n"
   ]
  },
  {
   "cell_type": "code",
   "execution_count": 41,
   "id": "374e4dcd-5699-4d87-97f6-a5aa6633fc0c",
   "metadata": {},
   "outputs": [
    {
     "name": "stdout",
     "output_type": "stream",
     "text": [
      "array([-11438974.432,   4698615.   ])\n"
     ]
    }
   ],
   "source": [
    "# Initialize the `pos` property in the graph for storing (x, y) coordinates\n",
    "pos = g.new_vertex_property(\"vector<double>\")\n",
    "\n",
    "# Iterate over vertices and assign centroid positions based on matching ISO_A3 codes\n",
    "for v in g.vertices():\n",
    "    country_code = g.vp.country[v]  # Get the ISO_A3 code from the vertex property\n",
    "\n",
    "    # Find the centroid for the country from the world DataFrame\n",
    "    centroid = world.loc[world['ISO_A3'] == country_code, 'geometry'].centroid\n",
    "\n",
    "    # Assign the centroid coordinates to the `pos` property if found\n",
    "    if not centroid.empty:\n",
    "        pos[v] = (centroid.values[0].x, centroid.values[0].y)\n",
    "        if g.vp.country[v] == 'USA':\n",
    "            pos[v] = (-11438974.432, 4698615)\n",
    "            print(pos[v])\n",
    "    else:\n",
    "        pos[v] = (0, 0)  # Assign a default position if no match is found"
   ]
  },
  {
   "cell_type": "code",
   "execution_count": 42,
   "id": "9e8ed9a6-1758-4e26-896a-92630593340b",
   "metadata": {},
   "outputs": [],
   "source": [
    "world['block'] = world['block'].astype('category')\n",
    "\n",
    "# Get the number of unique categories in the 'continent' column\n",
    "num_categories = len(world['block'].cat.categories)"
   ]
  },
  {
   "cell_type": "code",
   "execution_count": 43,
   "id": "ddaeb629-e3d1-4aed-b20b-b743e50ed6de",
   "metadata": {},
   "outputs": [],
   "source": [
    "title = 'ALL'"
   ]
  },
  {
   "cell_type": "code",
   "execution_count": 44,
   "id": "1827b43b-6e9d-464c-98be-86500c28e0e6",
   "metadata": {},
   "outputs": [],
   "source": [
    "rand_code = 0000"
   ]
  },
  {
   "cell_type": "code",
   "execution_count": 45,
   "id": "63628a98-d7f1-4d5c-9061-3fa92d060ce4",
   "metadata": {},
   "outputs": [
    {
     "name": "stderr",
     "output_type": "stream",
     "text": [
      "/tmp/ipykernel_13517/2186500873.py:61: UserWarning: FigureCanvasCairo is non-interactive, and thus cannot be shown\n",
      "  plt.show()\n"
     ]
    }
   ],
   "source": [
    "# Create a discrete colormap from the tab20 colormap\n",
    "\n",
    "from matplotlib.colors import ListedColormap\n",
    "import matplotlib \n",
    "from mpl_toolkits.axes_grid1 import make_axes_locatable\n",
    "\n",
    "plt.close(\"all\")           # Close all open figures\n",
    "plt.switch_backend(\"cairo\")   # to enable vector drawing\n",
    "\n",
    "# plt.switch_backend(\"module://matplotlib_inline.backend_inline\")  # Set to Jupyter inline backend\n",
    "fig, ax = plt.subplots()\n",
    "\n",
    "\n",
    "tab20 = matplotlib.cm.tab20\n",
    "custom_colormap = ListedColormap(tab20.colors[:num_categories])  # Use only the number of categories needed\n",
    "\n",
    "world_plot = world.plot(column='block', legend=False, ax=ax, cmap=custom_colormap, edgecolor='k', alpha = 1, linewidth=0.3, zorder = -1)\n",
    "\n",
    "\n",
    "plt.title(topic)\n",
    "\n",
    "ax.set_xticks([])\n",
    "ax.set_yticks([])\n",
    "\n",
    "# gt.graph_draw(g, pos = pos, vertex_shape=\"pie\", vertex_pie_fractions=pv, vertex_text = vprop_label,\n",
    "#               edge_pen_width=gt.prop_to_size(g.ep.eprob, 0.001, 0.01, power=1), mplfig = ax)\n",
    "\n",
    "# gt.graph_draw(filtered_graph, pos = pos, vertex_shape=\"pie\", vertex_pie_fractions=pv,\n",
    "#               vcmap=matplotlib.cm.Set1, edge_color=(.1,.1,.1,.1), vertex_pen_width=10, vertex_pen_color=\"black\",\n",
    "#               edge_pen_width=1, mplfig = ax)\n",
    "\n",
    "\n",
    "# gt.graph_draw(\n",
    "#     g,\n",
    "#     pos=pos,\n",
    "#     vertex_shape=\"circle\",                # Use solid circles as the background\n",
    "#     vertex_fill_color=\"black\",            # Set to black for the outline\n",
    "#     vertex_size=400000,                       # Slightly larger size to act as the border\n",
    "#     edge_color=(.1, .1, .1, .1),          # Keep edges as before\n",
    "#     edge_pen_width=1,\n",
    "#     mplfig=ax\n",
    "# )\n",
    "# set1_colors = [matplotlib.cm.Set1(i) for i in range(9)]\n",
    "\n",
    "# # Now draw the actual pie vertices on top of the black \"background\"\n",
    "# gt.graph_draw(\n",
    "#     g,\n",
    "#     pos=pos,\n",
    "#     vertex_shape=\"pie\",\n",
    "#     vertex_pie_fractions=pv,\n",
    "#     # vcmap=matplotlib.cm.Set1,\n",
    "#     vcmap=matplotlib.colors.ListedColormap(set1_colors),\n",
    "#     vertex_size=300000,                       # Smaller size for the actual pie chart vertices\n",
    "#     edge_color=(.1, .1, .1, .1),\n",
    "#     edge_pen_width=1,\n",
    "#     mplfig=ax\n",
    "# )\n",
    "fig.savefig( './temp' + topic + '-' + str(rand_code) + \".pdf\")\n",
    "fig.savefig( './temp' + topic + '-' + str(rand_code) + \".svg\")\n",
    "fig.savefig( './temp' + topic + '-' + str(rand_code) + \".png\", dpi = 500)\n",
    "plt.show()"
   ]
  },
  {
   "cell_type": "code",
   "execution_count": null,
   "id": "ca4cde9f-3e8b-4f3d-bffa-89b5346b024b",
   "metadata": {},
   "outputs": [],
   "source": []
  }
 ],
 "metadata": {
  "kernelspec": {
   "display_name": "Python 3 (ipykernel)",
   "language": "python",
   "name": "python3"
  },
  "language_info": {
   "codemirror_mode": {
    "name": "ipython",
    "version": 3
   },
   "file_extension": ".py",
   "mimetype": "text/x-python",
   "name": "python",
   "nbconvert_exporter": "python",
   "pygments_lexer": "ipython3",
   "version": "3.12.4"
  }
 },
 "nbformat": 4,
 "nbformat_minor": 5
}
